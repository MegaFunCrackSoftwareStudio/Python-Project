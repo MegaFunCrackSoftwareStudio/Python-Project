{
 "cells": [
  {
   "cell_type": "markdown",
   "id": "e8156630",
   "metadata": {},
   "source": [
    "# Random recipe generator for Pasta, Entreés and side dishes\n",
    "### Just follow along and get an entire meal planned for you and your guests"
   ]
  },
  {
   "cell_type": "code",
   "execution_count": 8,
   "id": "8ac7a274",
   "metadata": {},
   "outputs": [],
   "source": [
    "from IPython.display import Image\n",
    "from IPython.core.display import HTML\n",
    "\n",
    "import random\n",
    "\n",
    "from ipywidgets import interact\n",
    "import ipywidgets as widgets\n",
    "import math"
   ]
  },
  {
   "cell_type": "code",
   "execution_count": 9,
   "id": "a158e7cb",
   "metadata": {},
   "outputs": [
    {
     "name": "stdout",
     "output_type": "stream",
     "text": [
      "What do you want to cook? (Pasta or else)pasta\n",
      "Then choose a number between 1 to 3: 3\n",
      "Summer tagliatele\n",
      "Do you like this recipe idea? (yes/no):yes\n",
      "How many people are you cooking for?7\n",
      "Ingredients:\n",
      " 3.5  bunch(es) of basil\n",
      " 3.5  Cloves of garlic\n",
      " 175 g blanched almonds 91 g parmesan cheese\n",
      " 1.75  lemon(s)\n",
      " 3.5  maris piper potatoe(s)\n",
      " 455 g green beans\n",
      " 1050 g Tagliatelle\n",
      " 700 g summer vegetables of your choice, like borad beans, peas, tenderstem broccoli ...\n",
      "\n",
      "Preparation:\n",
      "\tStep 1\n",
      "Pick most of the basil leaves into a pestle and mortar and bash to a paste with a pinch of sea salt. Peel and bash in the garlic, then pound in the almonds until fine.\n",
      "\tStep 2\n",
      "Muddle in 4 tablespoons of oil, finely grate in the Parmesan and then squeeze in the lemon juice. Season to your liking.\n",
      "\tStep 3\n",
      "Scrub and finely slice the potato, trim just the stalks off the beans, then place both in a pan of boiling salted water with the tagliatelle and cook according to the pasta packet instructions.\n",
      "\tStep 4\n",
      "Prep the delicate summer veg as necessary, adding them to the pan for the last 3 minutes. Drain, reserving a mugful of starchy cooking water, then toss with the pesto, loosening with a splash of reserved cooking water, if needed.\n",
      "\tStep 5\n",
      "Drizzle with some olive oil, and finish with the remaining basil and a fine grating of Parmesan.\n"
     ]
    },
    {
     "data": {
      "text/html": [
       "<img src=\"https://img.jamieoliver.com/jamieoliver/recipe-database/94741158.jpg?tr=w-800,h-1066\" width=\"300\" height=\"300\"/>"
      ],
      "text/plain": [
       "<IPython.core.display.Image object>"
      ]
     },
     "metadata": {},
     "output_type": "display_data"
    }
   ],
   "source": [
    "choice = input (\"What do you want to cook? (Pasta or else)\")\n",
    "\n",
    "if choice == \"else\":\n",
    "    print (\"Try our random recipe generator below\")\n",
    "\n",
    "else:\n",
    "    random1 = int (input (\"Then choose a number between 1 to 3: \"))\n",
    "\n",
    "if random1 == 1 :\n",
    "    print (\"Eggplant Garlic pasta\")\n",
    "elif random1 == 2:\n",
    "    print (\"Pasta carbonara\")\n",
    "elif random1 == 3:\n",
    "    print (\"Summer tagliatele\")\n",
    "\n",
    "answer1 = input (\"Do you like this recipe idea? (yes/no):\")\n",
    "\n",
    "while answer1 == \"no\":\n",
    "    random1 = int (input (\"Try another number from 1 to 3:\"))\n",
    "    if random1 == 1 :\n",
    "        print (\"Eggplant Garlic pasta\")\n",
    "    elif random1 == 2:\n",
    "        print (\"Pasta carbonara\")\n",
    "    elif random1 == 3:\n",
    "        print (\"Summer tagliatele\")\n",
    "    answer1 = input (\"Do you like this recipe idea? (yes/no):\")\n",
    "\n",
    "if answer1 == \"yes\" :\n",
    "    people1 = int (input (\"How many people are you cooking for?\"))\n",
    "    \n",
    "    if random1 == 1:\n",
    "        print (\"Ingredients:\\n\",0.5*people1, \" cup(s) of olive oil\\n\",people1, \" Clove(s) of garlic, peeled and finely chopped\\n\",0.5*people1, \" eggplant(s), peeled and diced\\n\",0.5*people1, \" can(s) of plum tomatoes with juice \\n\",125*people1,\"g Rigatoni\\n\")\n",
    "        print (\"Preparation:\\n\\tStep 1\\nHeat olive oil in a large skillet over medium heat; cook and stir garlic until fragrant for 1 to 2 minutes.\\n\\tStep 2\\nAdd eggplant; cook, stirring constantly, until eggplant is softened, about 5 minutes.\\n\\tStep3\\nAdd tomatoes and juice; cook until sauce is slightly reduced, about 20 minutes\\n\\tStep4\\nInthe meantime, cook your pasta in boiling water until al dente. Once finished, drain and add to the sauce pan\")\n",
    "        display (Image(url= \"https://static01.nyt.com/images/2019/02/12/dining/sl-eggplant-rigatoni/sl-eggplant-rigatoni-articleLarge.jpg\", width=300, height=300))\n",
    "    elif random1 == 2:\n",
    "        print (\"Ingredients:\\n\",1.5*people1, \" large Eggyolks\\n\",20*people1, \"g Parmesan\\n\",75*people1,\"g Pancetta\\n\",150*people1,\"g Spaghetti\\n\",0.5*people1,\" Cloves of garlic\\nolive oil\\n\")\n",
    "        print (\"Preparation:\\n\\tStep 1\\nPut the egg yolks into a bowl, finely grate in the Parmesan, season with pepper, then mix well with a fork and put aside.\\n\\t Step 2\\nCut any hard skin off the pancetta and set aside, then chop the meat.\\n\\tStep3\\nCook the spaghetti in a large pan of boiling salted water until al dente.\\n\\tStep 4\\nMeanwhile, rub the pancetta skin, if you have any, all over the base of a medium frying pan (this will add fantastic flavour, or use 1 tablespoon of oil instead), then place over a medium-high heat.\\n\\tStep 5\\nPeel the garlic, then crush with the palm of your hand, add it to the pan and leave it to flavour the fat for 1 minute. Stir in the pancetta, then cook for 4 minutes, or until it starts to crisp up.\\n\\tStep 6\\nPick out and discard the garlic from the pan, then, reserving some of the cooking water, drain and add the spaghetti. Toss well over the heat so it really soaks up all that lovely flavour, then remove the pan from the heat.\\n\\tStep 7\\nAdd a splash of the cooking water and toss well, season with pepper, then pour in the egg mixture – the pan will help to cook the egg gently, rather than scrambling it. Toss well, adding more cooking water until it’s lovely and glossy.\\n\\tStep 8\\nServe with a grating of Parmesan and an extra twist of pepper.\")\n",
    "        display (Image(url= \"https://static01.nyt.com/images/2021/02/14/dining/carbonara-horizontal/carbonara-horizontal-articleLarge-v2.jpg\", width=300, height=300))\n",
    "    elif random1 == 3:\n",
    "        print (\"Ingredients:\\n\",0.5*people1,\" bunch(es) of basil\\n\",0.5*people1, \" Cloves of garlic\\n\",25*people1, \"g blanched almonds\",13*people1,\"g parmesan cheese\\n\",0.25*people1, \" lemon(s)\\n\",0.5*people1,\" maris piper potatoe(s)\\n\",65*people1, \"g green beans\\n\",150*people1,\"g Tagliatelle\\n\",100*people1, \"g summer vegetables of your choice, like borad beans, peas, tenderstem broccoli ...\\n\")\n",
    "        print (\"Preparation:\\n\\tStep 1\\nPick most of the basil leaves into a pestle and mortar and bash to a paste with a pinch of sea salt. Peel and bash in the garlic, then pound in the almonds until fine.\\n\\tStep 2\\nMuddle in 4 tablespoons of oil, finely grate in the Parmesan and then squeeze in the lemon juice. Season to your liking.\\n\\tStep 3\\nScrub and finely slice the potato, trim just the stalks off the beans, then place both in a pan of boiling salted water with the tagliatelle and cook according to the pasta packet instructions.\\n\\tStep 4\\nPrep the delicate summer veg as necessary, adding them to the pan for the last 3 minutes. Drain, reserving a mugful of starchy cooking water, then toss with the pesto, loosening with a splash of reserved cooking water, if needed.\\n\\tStep 5\\nDrizzle with some olive oil, and finish with the remaining basil and a fine grating of Parmesan.\")\n",
    "        display (Image(url= \"https://img.jamieoliver.com/jamieoliver/recipe-database/94741158.jpg?tr=w-800,h-1066\", width=300, height=300))\n",
    "        "
   ]
  },
  {
   "cell_type": "markdown",
   "id": "29608ab8",
   "metadata": {},
   "source": [
    "# Random entreé generator"
   ]
  },
  {
   "cell_type": "code",
   "execution_count": 1,
   "id": "711b79d0",
   "metadata": {},
   "outputs": [
    {
     "name": "stdout",
     "output_type": "stream",
     "text": [
      "Tomatoe, Red wine and chorizo risotto\n",
      "Do you like this recipe? (yes/no):no\n",
      "Asian Salmon and sweet potatoe traybake\n",
      "Do you like this recipe idea? (yes/no):yes\n",
      "How many people are you cooking for?2\n",
      "Ingredients:\n",
      " 1.0  Sweet potatoe(s)\n",
      " 2  Lemongrass stick(s)\n",
      " 2.5 cm piece of ginger\n",
      " 2  Cloves of garlic\n",
      " 1.0  teaspoon(s) of sesame oil\n",
      " 150 ml of stock 150 ml of coconut milk\n",
      " 8  lime leaves\n",
      " 2  red chili(es)\n",
      " 400 g Salmon\n",
      "\n",
      "Preparation:\n",
      "\tStep 1\n",
      "Preheat the oven to 190°C/375°F/gas 5.\n",
      "\t Step 2\n",
      "Scrub the sweet potato, then slice into thin rounds. Arrange the slices, overlapping, in a large roasting tin.\n",
      "\tStep 3\n",
      "Bruise the lemongrass, then finely chop the tender parts. Peel and finely chop the ginger and garlic. Finely slice the chilli.\n",
      "\tStep 4\n",
      "Mix the sesame oil, stock, coconut milk and two-thirds each of the lemongrass, ginger and garlic. Pour over the potatoes, tuck in the lime leaves (or squeeze the juice on top and scatter over the zest) and sprinkle over the chilli.\n",
      "\tStep 5\n",
      "Roast for 20 to 25 minutes, or until the potatoes are done. About 8 to 10 minutes before the cooking time is up, sit the fish on the potatoes and top with the rest of the lemongrass, ginger and garlic.\n",
      "\tStep 6\n",
      "When the fish is just cooked, drizzle with soy sauce, if you like.\n"
     ]
    },
    {
     "ename": "NameError",
     "evalue": "name 'Image' is not defined",
     "output_type": "error",
     "traceback": [
      "\u001b[1;31m---------------------------------------------------------------------------\u001b[0m",
      "\u001b[1;31mNameError\u001b[0m                                 Traceback (most recent call last)",
      "\u001b[1;32m<ipython-input-1-5190fc88ba85>\u001b[0m in \u001b[0;36m<module>\u001b[1;34m\u001b[0m\n\u001b[0;32m     40\u001b[0m         \u001b[0mprint\u001b[0m \u001b[1;33m(\u001b[0m\u001b[1;34m\"Ingredients:\\n\"\u001b[0m\u001b[1;33m,\u001b[0m\u001b[1;36m0.5\u001b[0m\u001b[1;33m*\u001b[0m\u001b[0mpeople2\u001b[0m\u001b[1;33m,\u001b[0m\u001b[1;34m\" Sweet potatoe(s)\\n\"\u001b[0m\u001b[1;33m,\u001b[0m\u001b[0mpeople2\u001b[0m\u001b[1;33m,\u001b[0m\u001b[1;34m\" Lemongrass stick(s)\\n\"\u001b[0m\u001b[1;33m,\u001b[0m\u001b[1;36m1.25\u001b[0m\u001b[1;33m*\u001b[0m\u001b[0mpeople2\u001b[0m\u001b[1;33m,\u001b[0m\u001b[1;34m\"cm piece of ginger\\n\"\u001b[0m\u001b[1;33m,\u001b[0m\u001b[0mpeople2\u001b[0m\u001b[1;33m,\u001b[0m\u001b[1;34m\" Cloves of garlic\\n\"\u001b[0m\u001b[1;33m,\u001b[0m\u001b[1;36m0.5\u001b[0m\u001b[1;33m*\u001b[0m\u001b[0mpeople2\u001b[0m\u001b[1;33m,\u001b[0m\u001b[1;34m\" teaspoon(s) of sesame oil\\n\"\u001b[0m\u001b[1;33m,\u001b[0m\u001b[1;36m75\u001b[0m\u001b[1;33m*\u001b[0m\u001b[0mpeople2\u001b[0m\u001b[1;33m,\u001b[0m\u001b[1;34m\"ml of stock\"\u001b[0m\u001b[1;33m,\u001b[0m\u001b[1;36m75\u001b[0m\u001b[1;33m*\u001b[0m\u001b[0mpeople2\u001b[0m\u001b[1;33m,\u001b[0m \u001b[1;34m\"ml of coconut milk\\n\"\u001b[0m\u001b[1;33m,\u001b[0m\u001b[1;36m4\u001b[0m\u001b[1;33m*\u001b[0m\u001b[0mpeople2\u001b[0m\u001b[1;33m,\u001b[0m \u001b[1;34m\" lime leaves\\n\"\u001b[0m\u001b[1;33m,\u001b[0m\u001b[0mpeople2\u001b[0m\u001b[1;33m,\u001b[0m \u001b[1;34m\" red chili(es)\\n\"\u001b[0m\u001b[1;33m,\u001b[0m\u001b[1;36m200\u001b[0m\u001b[1;33m*\u001b[0m\u001b[0mpeople2\u001b[0m\u001b[1;33m,\u001b[0m \u001b[1;34m\"g Salmon\\n\"\u001b[0m\u001b[1;33m)\u001b[0m\u001b[1;33m\u001b[0m\u001b[1;33m\u001b[0m\u001b[0m\n\u001b[0;32m     41\u001b[0m         \u001b[0mprint\u001b[0m \u001b[1;33m(\u001b[0m\u001b[1;34m\"Preparation:\\n\\tStep 1\\nPreheat the oven to 190°C/375°F/gas 5.\\n\\t Step 2\\nScrub the sweet potato, then slice into thin rounds. Arrange the slices, overlapping, in a large roasting tin.\\n\\tStep 3\\nBruise the lemongrass, then finely chop the tender parts. Peel and finely chop the ginger and garlic. Finely slice the chilli.\\n\\tStep 4\\nMix the sesame oil, stock, coconut milk and two-thirds each of the lemongrass, ginger and garlic. Pour over the potatoes, tuck in the lime leaves (or squeeze the juice on top and scatter over the zest) and sprinkle over the chilli.\\n\\tStep 5\\nRoast for 20 to 25 minutes, or until the potatoes are done. About 8 to 10 minutes before the cooking time is up, sit the fish on the potatoes and top with the rest of the lemongrass, ginger and garlic.\\n\\tStep 6\\nWhen the fish is just cooked, drizzle with soy sauce, if you like.\"\u001b[0m\u001b[1;33m)\u001b[0m\u001b[1;33m\u001b[0m\u001b[1;33m\u001b[0m\u001b[0m\n\u001b[1;32m---> 42\u001b[1;33m         \u001b[0mdisplay\u001b[0m \u001b[1;33m(\u001b[0m\u001b[0mImage\u001b[0m\u001b[1;33m(\u001b[0m\u001b[0murl\u001b[0m\u001b[1;33m=\u001b[0m \u001b[1;34m\"https://img.jamieoliver.com/jamieoliver/recipe-database/52PsxSQ6adABT58ca-ar0X.jpg?tr=w-450\"\u001b[0m\u001b[1;33m,\u001b[0m \u001b[0mwidth\u001b[0m\u001b[1;33m=\u001b[0m\u001b[1;36m300\u001b[0m\u001b[1;33m,\u001b[0m \u001b[0mheight\u001b[0m\u001b[1;33m=\u001b[0m\u001b[1;36m300\u001b[0m\u001b[1;33m)\u001b[0m\u001b[1;33m)\u001b[0m\u001b[1;33m\u001b[0m\u001b[1;33m\u001b[0m\u001b[0m\n\u001b[0m\u001b[0;32m     43\u001b[0m     \u001b[1;32melif\u001b[0m \u001b[0mrandom2\u001b[0m \u001b[1;33m==\u001b[0m \u001b[1;33m[\u001b[0m\u001b[1;36m3\u001b[0m\u001b[1;33m]\u001b[0m\u001b[1;33m:\u001b[0m\u001b[1;33m\u001b[0m\u001b[1;33m\u001b[0m\u001b[0m\n\u001b[0;32m     44\u001b[0m         \u001b[0mprint\u001b[0m \u001b[1;33m(\u001b[0m\u001b[1;34m\"Ingredients:\\n\"\u001b[0m\u001b[1;33m,\u001b[0m\u001b[1;36m2\u001b[0m\u001b[1;33m*\u001b[0m\u001b[0mpeople2\u001b[0m\u001b[1;33m,\u001b[0m\u001b[1;34m\" Sweet Potatoes\\n\"\u001b[0m\u001b[1;33m,\u001b[0m\u001b[0mpeople2\u001b[0m\u001b[1;33m,\u001b[0m\u001b[1;34m\" Avocado(s)\\n\"\u001b[0m\u001b[1;33m,\u001b[0m\u001b[0mpeople2\u001b[0m\u001b[1;33m,\u001b[0m\u001b[1;34m\" Lime(s)\\n\"\u001b[0m\u001b[1;33m,\u001b[0m\u001b[1;36m20\u001b[0m\u001b[1;33m*\u001b[0m\u001b[0mpeople2\u001b[0m\u001b[1;33m,\u001b[0m\u001b[1;34m\"g of pumpkin seeds\\n\"\u001b[0m\u001b[1;33m,\u001b[0m\u001b[1;36m75\u001b[0m\u001b[1;33m*\u001b[0m\u001b[0mpeople2\u001b[0m\u001b[1;33m,\u001b[0m\u001b[1;34m\"g Mexican queso fresco or spanish manchego\\n\"\u001b[0m\u001b[1;33m)\u001b[0m\u001b[1;33m\u001b[0m\u001b[1;33m\u001b[0m\u001b[0m\n",
      "\u001b[1;31mNameError\u001b[0m: name 'Image' is not defined"
     ]
    }
   ],
   "source": [
    "import random\n",
    "recipe = list(range(1,4))\n",
    "random.shuffle(recipe)\n",
    "random2 =  recipe[:1]\n",
    "\n",
    "if random2 == [1] :\n",
    "    print (\"Tomatoe, Red wine and chorizo risotto\")\n",
    "    \n",
    "if random2 == [2]:\n",
    "    print (\"Asian Salmon and sweet potatoe traybake\")\n",
    "    \n",
    "if random2 == [3]:\n",
    "    print (\"Baked sweet potatoes with avocado and queso fresco\")\n",
    "\n",
    "answer2 = input (\"Do you like this recipe? (yes/no):\")\n",
    "\n",
    "while answer2 == \"no\":\n",
    "    recipe = list(range(1,4))\n",
    "    random.shuffle(recipe)\n",
    "    random2 =  recipe[:1]\n",
    "\n",
    "    if random2 == [1] :\n",
    "        print (\"Tomatoe, Red wine and chorizo risotto\")\n",
    "    \n",
    "    if random2 == [2]:\n",
    "        print (\"Asian Salmon and sweet potatoe traybake\")\n",
    "    \n",
    "    if random2 == [3]:\n",
    "        print (\"Baked sweet potatoes with avocado and queso fresco\")\n",
    "    answer2 = input (\"Do you like this recipe idea? (yes/no):\")\n",
    "\n",
    "if answer2 == \"yes\":\n",
    "    people2 = int (input (\"How many people are you cooking for?\"))\n",
    "    \n",
    "    if random2 == [1]:\n",
    "        print (\"Ingredients:\\n\",people2,\" shallot(s)\\n\",0.5*people2, \" Cloves of garlic\\n\",40*people2,\"g Chorizo\",0.5*people2, \" bunch(es) of parsley\\n\",0.5*people2,\" liter(s) of stock\\n\",0.5*people2,\" can(s) of tomatoes\\n\",150*people2,\"g of risotto rice\\n\",100*people2,\"ml of red wine\\n\",25*people2,\"g of parmesan\\n\")\n",
    "        print (\"Preparation:\\n\\tStep 1\\nPeel and finely chop the shallots and garlic, finely chop the chorizo, then pick and finely chop the parsley leaves, finely chopping the stalks.\\n\\tStep 2\\nDrizzle 2 tablespoons of olive oil into a wide, shallow pan. Add the parsley stalks, shallot, garlic and chorizo to the heated oil and cook over a medium-high heat for about 5 minutes, or until the shallot is softened and the chorizo is beginning to crisp.\\n\\tStep 3\\nIn another pan, heat the stock with the tinned tomatoes. Add the rice to the shallot mixture and stir to coat the grains. Cook over a high heat for 1 to 2 minutes, or until the grains have cracked and are slightly translucent at the tips, then pour in the red wine.Stir well and cook until almost all the wine has evaporated. \\n\\tStep 4\\nAdd the hot stock and tomato mixture, ladle by ladle, stirring well with each addition, and only adding more when the previous ladle is almost fully absorbed. You may not need all of the mixture, or you may need to top it up with a little water.The rice should be tender but with a little bite in the middle. When it’s cooked, add one last ladle of liquid.\\n\\tStep 5\\nFinely grate the Parmesan, then add to the pan with some seasoning. Stir well, take off the heat and cover. Leave for 5 minutes or so before stirring again, tasting and adjusting the seasoning, if necessary.\\n\\tStep 6\\nServe topped with extra grated Parmesan and the chopped parsley leaves.\")\n",
    "        display (Image(url= \"https://img.jamieoliver.com/jamieoliver/recipe-database/5f7-YlXHqm691IOMUCV_h1.jpg?tr=w-800,h-1066\", width=300, height=300))\n",
    "    elif random2 == [2]:\n",
    "        print (\"Ingredients:\\n\",0.5*people2,\" Sweet potatoe(s)\\n\",people2,\" Lemongrass stick(s)\\n\",1.25*people2,\"cm piece of ginger\\n\",people2,\" Cloves of garlic\\n\",0.5*people2,\" teaspoon(s) of sesame oil\\n\",75*people2,\"ml of stock\",75*people2, \"ml of coconut milk\\n\",4*people2, \" lime leaves\\n\",people2, \" red chili(es)\\n\",200*people2, \"g Salmon\\n\")\n",
    "        print (\"Preparation:\\n\\tStep 1\\nPreheat the oven to 190°C/375°F/gas 5.\\n\\t Step 2\\nScrub the sweet potato, then slice into thin rounds. Arrange the slices, overlapping, in a large roasting tin.\\n\\tStep 3\\nBruise the lemongrass, then finely chop the tender parts. Peel and finely chop the ginger and garlic. Finely slice the chilli.\\n\\tStep 4\\nMix the sesame oil, stock, coconut milk and two-thirds each of the lemongrass, ginger and garlic. Pour over the potatoes, tuck in the lime leaves (or squeeze the juice on top and scatter over the zest) and sprinkle over the chilli.\\n\\tStep 5\\nRoast for 20 to 25 minutes, or until the potatoes are done. About 8 to 10 minutes before the cooking time is up, sit the fish on the potatoes and top with the rest of the lemongrass, ginger and garlic.\\n\\tStep 6\\nWhen the fish is just cooked, drizzle with soy sauce, if you like.\")\n",
    "        display (Image(url= \"https://img.jamieoliver.com/jamieoliver/recipe-database/52PsxSQ6adABT58ca-ar0X.jpg?tr=w-450\", width=300, height=300))\n",
    "    elif random2 == [3]:\n",
    "        print (\"Ingredients:\\n\",2*people2,\" Sweet Potatoes\\n\",people2,\" Avocado(s)\\n\",people2,\" Lime(s)\\n\",20*people2,\"g of pumpkin seeds\\n\",75*people2,\"g Mexican queso fresco or spanish manchego\\n\")\n",
    "        print (\"Preparation:\\n\\tStep 1\\nPreheat the oven to 180ºC/gas 4.\\n\\tStep 2\\nDrizzle the potatoes with oil, sprinkle with sea salt and black pepper, wrap in foil and bake in the oven for 1 hour to 1 hour 15 minutes, or until tender.\\n\\tStep 3\\nWhen the potatoes are nearly done, destone and roughly chop the avocados and toss with the juice from half a lime.\\n\\tStep 4\\nToast the pumpkin seeds in a dry pan for a few minutes until slightly golden.\\n\\tStep 5\\nTop the potatoes with the avocado, crumble over the cheese and sprinkle with the toasted seeds. Serve with lime wedges for squeezing\")\n",
    "        display (Image(url= \"https://img.jamieoliver.com/jamieoliver/recipe-database/46263377.jpg?tr=w-450\", width=300, height=300))\n",
    "    "
   ]
  },
  {
   "cell_type": "markdown",
   "id": "67c86923",
   "metadata": {},
   "source": [
    "# Random side dish generator"
   ]
  },
  {
   "cell_type": "code",
   "execution_count": 11,
   "id": "ced57cb0",
   "metadata": {},
   "outputs": [
    {
     "name": "stdout",
     "output_type": "stream",
     "text": [
      "Please enter a number from 1 to 3:2\n",
      "Antipasto sticks\n",
      "Do you like this recipe? (yes/no):yes\n",
      "How may people do you want to cook for?\n"
     ]
    },
    {
     "data": {
      "application/vnd.jupyter.widget-view+json": {
       "model_id": "80765d15f9a94316a43f3840eeb30bbe",
       "version_major": 2,
       "version_minor": 0
      },
      "text/plain": [
       "IntSlider(value=0, description='people', max=20)"
      ]
     },
     "metadata": {},
     "output_type": "display_data"
    }
   ],
   "source": [
    "random3 = int (input (\"Please enter a number from 1 to 3:\"))\n",
    "\n",
    "if random3 == 1 :\n",
    "    print (\"Bacon dates\")\n",
    "elif random3 == 2:\n",
    "    print (\"Antipasto sticks\")\n",
    "elif random3 == 3:\n",
    "    print (\"Watermelon Salad\")\n",
    "\n",
    "answer3 = input (\"Do you like this recipe? (yes/no):\")\n",
    "\n",
    "while answer3 == \"no\":\n",
    "    random3 = int (input (\"Try another number from 1 to 3:\"))\n",
    "    if random3 == 1 :\n",
    "        print (\"Bacon dates\")\n",
    "    elif random3 == 2:\n",
    "        print (\"Antipasto sticks\")\n",
    "    elif random3 == 3:\n",
    "        print (\"Watermelon Salad\")\n",
    "    answer3 = input (\"Do you like this recipe? (yes/no):\")\n",
    "\n",
    "if answer3 == \"yes\":\n",
    "    people3 = widgets.IntSlider(min=0, max=20, step=1, description=\"people\", readout=True)\n",
    "\n",
    "    print (\"How may people do you want to cook for?\")\n",
    "    display (people3)"
   ]
  },
  {
   "cell_type": "code",
   "execution_count": 12,
   "id": "a9519c11",
   "metadata": {},
   "outputs": [
    {
     "name": "stdout",
     "output_type": "stream",
     "text": [
      "Ingredients:\n",
      " 6  marinated artichoke hearts\n",
      " 6  fresh grape tomatoes\n",
      " 6 small mozzarelle balls\n",
      " 6  marinated olives\n",
      "a bunch of flat leaved italian parsley\n",
      "salt and pepper\n",
      "\n",
      "Instructions:\n",
      "\tStep 1\n",
      "Gather all ingredients\n",
      "\tStep 2\n",
      "Arrange your ingredients on your sticks with one tomate, one mozarella ball, on olive and ne artichoke heart each, adding parsley to personal preference.\n",
      "\tStep 3\n",
      "Drizzle with olive oil, salt and pepper before serving\n"
     ]
    },
    {
     "data": {
      "text/html": [
       "<img src=\"https://www.cleverhousewife.com/wp-content/uploads/2017/08/9K8A7713-600x800.jpg\" width=\"300\" height=\"300\"/>"
      ],
      "text/plain": [
       "<IPython.core.display.Image object>"
      ]
     },
     "metadata": {},
     "output_type": "display_data"
    }
   ],
   "source": [
    "people3 = people3.value\n",
    "\n",
    "if random3 == 1:\n",
    "        print (\"Ingredients:\\n\",2*people3, \" Dates\\n\" ,20*people3, \"g Blue Cheese\\n\",2*people3,\" Bacon strips\")\n",
    "        print (\"Instructions:\\n\\tStep 1\\nPreheat the oven at 200ºC\\n\\tStep 2\\nStuff your dates with the blue cheese\\n\\tStep 3\\nWrap one bacon strip around each Date\\n\\tStep 4\\nPut them on a baking sheet lined with parchment paper\\n\\tStep 5\\nBake them for 5 minutes each side\")\n",
    "        display (Image(url= \"https://imagesvc.meredithcorp.io/v3/mm/image?url=https%3A%2F%2Fstatic.onecms.io%2Fwp-content%2Fuploads%2Fsites%2F23%2F2020%2F12%2F04%2Fbacon-wrapped-goat-cheese-dates-recipe-2000.jpg\", width=300, height=300))\n",
    "if random3 == 2:\n",
    "        print (\"Ingredients:\\n\",2*people3,\" marinated artichoke hearts\\n\",2*people3, \" fresh grape tomatoes\\n\",2*people3, \"small mozzarelle balls\\n\",2*people3, \" marinated olives\\na bunch of flat leaved italian parsley\\nsalt and pepper\\n\")\n",
    "        print (\"Instructions:\\n\\tStep 1\\nGather all ingredients\\n\\tStep 2\\nArrange your ingredients on your sticks with one tomate, one mozarella ball, on olive and ne artichoke heart each, adding parsley to personal preference.\\n\\tStep 3\\nDrizzle with olive oil, salt and pepper before serving\")\n",
    "        display (Image(url= \"https://www.cleverhousewife.com/wp-content/uploads/2017/08/9K8A7713-600x800.jpg\", width=300, height=300))\n",
    "if random3 == 3:\n",
    "        print (\"Ingredients:\\n\",150*people3,\"g Watermelon\\n\",0.5*people3,\" small red onion(s)\\n\",60*people3,\"g Feta cheese\\na bunch of mint\\nolive oil\\nSalt and Pepper\")\n",
    "        print (\"Instructions:\\n\\tStep 1\\nScoop out and chop the watermelon flesh into chunks, discarding the peel.\\n\\tStep 2\\nPeel and finely slice the onion, crumble the feta, then pick the mint leaves, tearing any larger ones.\\n\\tStep 3\\nPlace it all into a bowl and combine. Drizzle over a little oil and season with black pepper\")\n",
    "        display (Image(url= \"https://www.whiskaffair.com/wp-content/uploads/2020/08/Watermelon-Feta-Salad-2-2.jpg\", width=300, height=300))"
   ]
  },
  {
   "cell_type": "markdown",
   "id": "48a60020",
   "metadata": {},
   "source": [
    "# Random Dessert Generator\n",
    "##### After all, no one can have dinner without something sweet after"
   ]
  },
  {
   "cell_type": "code",
   "execution_count": 13,
   "id": "4bf11d9c",
   "metadata": {},
   "outputs": [
    {
     "name": "stdout",
     "output_type": "stream",
     "text": [
      "Mini chocolate and berry trifles\n",
      "Do you like this idea? (yes/no)yes\n",
      "\n",
      "Ingredients: \n",
      "4 thinly crowsway-sliced mini chocolate biskuit rolls \n",
      "125ml Chocolate Fudge Topping\n",
      "300g frozen mixed berries, thawed \n",
      "500ml custard\n",
      "2 tablespoons toasted flaked almonds\n",
      "\n",
      "Preparation: \n",
      "\tStep 1\n",
      "Divide half of the mini roll slices among 4 serving glasses and drizzle half of the fudge topping on them. \n",
      "\tStep 2\n",
      "Top with half of the berries and spoon over half of the custard.\n",
      "\tStep 3\n",
      " Continue layering with the remaining toppings in the same order. Sprinkle with almonds before serving.\n"
     ]
    },
    {
     "data": {
      "text/html": [
       "<img src=\"https://img.taste.com.au/G2-73U6p/taste/2017/07/mini-chocolate-berry-trifles_1980x1320-128741-1.jpg\" width=\"300\" height=\"300\"/>"
      ],
      "text/plain": [
       "<IPython.core.display.Image object>"
      ]
     },
     "metadata": {},
     "output_type": "display_data"
    }
   ],
   "source": [
    "dessert = random.randint(1, 3)\n",
    "\n",
    "if dessert==1:\n",
    "    print (\"Mini chocolate and berry trifles\")\n",
    "if dessert==2:\n",
    "    print (\"Chocolate berry tarte\")\n",
    "if dessert==3:\n",
    "    print (\"Mocha pot\")\n",
    "\n",
    "answer4 = input (\"Do you like this idea? (yes/no)\")\n",
    "\n",
    "while answer4 == \"no\":\n",
    "    dessert = random.randint(1, 3)\n",
    "\n",
    "    if dessert==1:\n",
    "        print (\"Mini chocolate and berry trifles\")\n",
    "    elif dessert==2:\n",
    "        print (\"Chocolate berry tarte\")\n",
    "    elif dessert==3:\n",
    "        print (\"Mocha pot\")\n",
    "    answer4 = input (\"Do you like this idea? (yes/no)\")\n",
    "\n",
    "if answer4==\"yes\":\n",
    "    \n",
    "    if dessert==1:\n",
    "        print (\"\\nIngredients: \\n4 thinly crowsway-sliced mini chocolate biskuit rolls \\n125ml Chocolate Fudge Topping\\n300g frozen mixed berries, thawed \\n500ml custard\\n2 tablespoons toasted flaked almonds\")\n",
    "        print (\"\\nPreparation: \\n\\tStep 1\\nDivide half of the mini roll slices among 4 serving glasses and drizzle half of the fudge topping on them. \\n\\tStep 2\\nTop with half of the berries and spoon over half of the custard.\\n\\tStep 3\\n Continue layering with the remaining toppings in the same order. Sprinkle with almonds before serving.\")\n",
    "        display (Image(url= \"https://img.taste.com.au/G2-73U6p/taste/2017/07/mini-chocolate-berry-trifles_1980x1320-128741-1.jpg\", width=300, height=300))\n",
    "    elif dessert==2:\n",
    "        print (\"\\nIngredients: \\n5 tablespoons butter, divided \\n5 crumbles up chocolate graham crackers\\n2 teaspoons sugar\\n3 tablespoons heavy whipping cream\\n1/8 teaspoon ground cinnamon\\n2/3 cup semisweet chocolate chips\\n1/3 cup fresh blackberries\\n1/3 cup fresh raspberries\\nConfectioners' sugar\")\n",
    "        print (\"\\nPreparation: \\n\\tStep 1 \\nIn a small microwave-safe bowl, melt 4 tablespoons butter; stir in cracker crumbs and sugar. Press onto the bottom and up the sides of two 4-in. fluted tart pans with removable bottoms. Freeze for 1 hour or until firm\\n\\tStep 2\\nIn a small saucepan, combine the cream, cinnamon and remaining butter. Bring to a boil over medium heat, stirring constantly. Remove from the heat; stir in chocolate chips until melted. Pour into crusts. Refrigerate until firm, about 1 hour.\\n\\tStep 3\\n Just before serving, arrange berries over filling; sprinkle with confectioners' sugar.\")\n",
    "        display (Image(url= \"https://i.pinimg.com/originals/98/10/5e/98105e960d3de9b19765109d74a4ef23.jpg\", width=300, height=300)) \n",
    "    elif dessert==3:\n",
    "        print (\"\\nIngredients: \\n200g milk-chocolate with coffee, broken into chunks\\n300ml pot double cream \\n1 tsp vanilla extract \\n2 tbsp creme fraiche \")\n",
    "        print (\"\\nPreparation: \\n\\tStep 1\\nMelt the chocolate in the microwave for 2 mins, stirring halfway through, or over a pan of gently simmering water. Leave to cool a little.\\n\\tStep 2\\nUsing an electric whisk, whip the double cream with the vanilla in a bowl until lightly whipped. Fold in the cooled, melted chocolate until fully combined.\\n\\tStep 3\\nSplit the mixture between four small bowls or ramekins and serve topped with a dollop of crème fraîche\")\n",
    "        display (Image(url= \"https://images.immediate.co.uk/production/volatile/sites/30/2020/08/five-minute-mocha-pots-633eb34.jpg?quality=90&resize=504,458\", width=300, height=300))"
   ]
  },
  {
   "cell_type": "markdown",
   "id": "00c20839",
   "metadata": {},
   "source": [
    "# Code that we may need or use"
   ]
  },
  {
   "cell_type": "code",
   "execution_count": 2,
   "id": "b5ace1bd",
   "metadata": {},
   "outputs": [
    {
     "name": "stdout",
     "output_type": "stream",
     "text": [
      "How may people do you want to cook for?\n"
     ]
    },
    {
     "data": {
      "application/vnd.jupyter.widget-view+json": {
       "model_id": "5204d6bd22bb465db0b86ac89e5bfd86",
       "version_major": 2,
       "version_minor": 0
      },
      "text/plain": [
       "IntSlider(value=0, description='people', max=20)"
      ]
     },
     "metadata": {},
     "output_type": "display_data"
    }
   ],
   "source": [
    "from ipywidgets import interact\n",
    "import ipywidgets as widgets\n",
    "import math\n",
    "\n",
    "people = widgets.IntSlider(min=0, max=20, step=1, description=\"people\", readout=True)\n",
    "\n",
    "print (\"How may people do you want to cook for?\")\n",
    "display (people)\n"
   ]
  },
  {
   "cell_type": "code",
   "execution_count": 3,
   "id": "4468e897",
   "metadata": {
    "scrolled": true
   },
   "outputs": [
    {
     "name": "stdout",
     "output_type": "stream",
     "text": [
      "9 x\n"
     ]
    }
   ],
   "source": [
    "people5 = people.value\n",
    "print (people5, \"x\")"
   ]
  },
  {
   "cell_type": "code",
   "execution_count": 12,
   "id": "3c891ead",
   "metadata": {},
   "outputs": [
    {
     "name": "stdout",
     "output_type": "stream",
     "text": [
      "[3]\n",
      "Z\n"
     ]
    }
   ],
   "source": [
    "import random\n",
    "recipe = list(range(1,4))\n",
    "random.shuffle(recipe)\n",
    "recipers =  recipe[:1]\n",
    "print (recipers)\n",
    "\n",
    "if recipers == [1]:\n",
    "    print (\"x\")\n",
    "if recipers == [2]:\n",
    "    print (\"Y\")\n",
    "if recipers == [3]:\n",
    "    print (\"Z\")"
   ]
  },
  {
   "cell_type": "code",
   "execution_count": null,
   "id": "82858cd9",
   "metadata": {},
   "outputs": [],
   "source": []
  },
  {
   "cell_type": "code",
   "execution_count": null,
   "id": "6fffcf3e",
   "metadata": {},
   "outputs": [],
   "source": []
  }
 ],
 "metadata": {
  "kernelspec": {
   "display_name": "Python 3",
   "language": "python",
   "name": "python3"
  },
  "language_info": {
   "codemirror_mode": {
    "name": "ipython",
    "version": 3
   },
   "file_extension": ".py",
   "mimetype": "text/x-python",
   "name": "python",
   "nbconvert_exporter": "python",
   "pygments_lexer": "ipython3",
   "version": "3.8.8"
  }
 },
 "nbformat": 4,
 "nbformat_minor": 5
}
